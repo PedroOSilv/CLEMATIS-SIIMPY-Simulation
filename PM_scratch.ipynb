{
 "cells": [
  {
   "cell_type": "code",
   "execution_count": 60,
   "id": "99a10c8c-a3b6-47e4-9577-c6c7c9fb9d1b",
   "metadata": {
    "executionInfo": {
     "elapsed": 612,
     "status": "ok",
     "timestamp": 1675618150872,
     "user": {
      "displayName": "Alexandre Bellargus silva da costa",
      "userId": "04390259925658165221"
     },
     "user_tz": 180
    },
    "id": "99a10c8c-a3b6-47e4-9577-c6c7c9fb9d1b"
   },
   "outputs": [],
   "source": [
    "import pandas as pd # data processing, CSV file I/O (e.g. pd.read_csv)\n",
    "import pm4py"
   ]
  },
  {
   "cell_type": "code",
   "execution_count": 61,
   "id": "89685e26-4437-4d9f-9d0e-cb2bb0dd4f7b",
   "metadata": {
    "executionInfo": {
     "elapsed": 911,
     "status": "ok",
     "timestamp": 1675618153830,
     "user": {
      "displayName": "Alexandre Bellargus silva da costa",
      "userId": "04390259925658165221"
     },
     "user_tz": 180
    },
    "id": "89685e26-4437-4d9f-9d0e-cb2bb0dd4f7b"
   },
   "outputs": [],
   "source": [
    "from pm4py.objects.conversion.log import converter as log_converter\n",
    "from pm4py.objects.log.importer.xes import importer as xes_importer\n",
    "\n",
    "# process mining \n",
    "from pm4py.algo.discovery.alpha import algorithm as alpha_miner\n",
    "from pm4py.algo.discovery.inductive import algorithm as inductive_miner\n",
    "from pm4py.algo.discovery.heuristics import algorithm as heuristics_miner\n",
    "from pm4py.algo.discovery.dfg import algorithm as dfg_discovery\n",
    "\n",
    "# viz\n",
    "from pm4py.visualization.petri_net import visualizer as pn_visualizer\n",
    "from pm4py.visualization.process_tree import visualizer as pt_visualizer\n",
    "from pm4py.visualization.heuristics_net import visualizer as hn_visualizer\n",
    "from pm4py.visualization.dfg import visualizer as dfg_visualization\n",
    "\n",
    "# misc \n",
    "from pm4py.objects.conversion.process_tree import converter as pt_converter\n",
    "\n",
    "pd.set_option('display.max_columns', None)\n",
    "pd.set_option('display.max_rows', None)"
   ]
  },
  {
   "cell_type": "code",
   "execution_count": 62,
   "id": "d19d4359-c195-4a90-b792-0c0514d3856c",
   "metadata": {
    "colab": {
     "base_uri": "https://localhost:8080/",
     "height": 380
    },
    "executionInfo": {
     "elapsed": 397,
     "status": "error",
     "timestamp": 1675618165334,
     "user": {
      "displayName": "Alexandre Bellargus silva da costa",
      "userId": "04390259925658165221"
     },
     "user_tz": 180
    },
    "id": "d19d4359-c195-4a90-b792-0c0514d3856c",
    "outputId": "8f7efa8b-65fb-499b-fb3e-0a08a8f8f040"
   },
   "outputs": [
    {
     "name": "stderr",
     "output_type": "stream",
     "text": [
      "/tmp/ipykernel_4690/363486717.py:4: DeprecatedWarning: format_dataframe is deprecated as of 2.3.0 and will be removed in 3.0.0. the format_dataframe function does not need application anymore.\n",
      "  dataframe = pm4py.format_dataframe(dataframe, case_id='case_id', activity_key='activity_id', timestamp_key='time_stamp')\n",
      "/home/202119040556/.local/lib/python3.9/site-packages/pm4py/utils.py:495: UserWarning: the EventLog class has been deprecated and will be removed in a future release.\n",
      "  warnings.warn(\"the EventLog class has been deprecated and will be removed in a future release.\")\n"
     ]
    }
   ],
   "source": [
    "if __name__ == \"__main__\":\n",
    "    dataframe = pd.read_csv('event_log.txt', sep=',')\n",
    "    dataframe = dataframe.rename(columns={'productID': 'case:productID'})\n",
    "    dataframe = pm4py.format_dataframe(dataframe, case_id='case_id', activity_key='activity_id', timestamp_key='time_stamp')\n",
    "    event_log = pm4py.convert_to_event_log(dataframe)"
   ]
  },
  {
   "cell_type": "code",
   "execution_count": 63,
   "id": "fab04920-0a88-4d07-8b29-27b315dd53f9",
   "metadata": {
    "colab": {
     "base_uri": "https://localhost:8080/"
    },
    "executionInfo": {
     "elapsed": 389,
     "status": "ok",
     "timestamp": 1675188176174,
     "user": {
      "displayName": "PEDRO PAULO ARAÚJO DE PAULA E SILVA",
      "userId": "07027869604458013937"
     },
     "user_tz": 240
    },
    "id": "fab04920-0a88-4d07-8b29-27b315dd53f9",
    "outputId": "625227ca-ddee-482e-e336-b25323545c2d"
   },
   "outputs": [
    {
     "data": {
      "text/plain": [
       "[{'attributes': {'concept:name': '0'}, 'events': [{'case_id': 0, 'activity_id': 0, 'time_stamp': Timestamp('2023-09-24 09:30:55+0000', tz='UTC'), 'product_id': 0, 'concept:name': '0', 'time:timestamp': Timestamp('2023-09-24 09:30:55+0000', tz='UTC'), '@@index': 0, '@@case_index': 0}, '..', {'case_id': 0, 'activity_id': 1, 'time_stamp': Timestamp('2023-09-24 09:31:15+0000', tz='UTC'), 'product_id': 0, 'concept:name': '1', 'time:timestamp': Timestamp('2023-09-24 09:31:15+0000', tz='UTC'), '@@index': 1, '@@case_index': 0}]}, '....', {'attributes': {'concept:name': '99'}, 'events': [{'case_id': 99, 'activity_id': 2, 'time_stamp': Timestamp('2023-09-24 10:03:55+0000', tz='UTC'), 'product_id': 99, 'concept:name': '2', 'time:timestamp': Timestamp('2023-09-24 10:03:55+0000', tz='UTC'), '@@index': 336, '@@case_index': 189}, '..', {'case_id': 99, 'activity_id': 1, 'time_stamp': Timestamp('2023-09-24 10:17:55+0000', tz='UTC'), 'product_id': 99, 'concept:name': '1', 'time:timestamp': Timestamp('2023-09-24 10:17:55+0000', tz='UTC'), '@@index': 337, '@@case_index': 189}]}]"
      ]
     },
     "execution_count": 63,
     "metadata": {},
     "output_type": "execute_result"
    }
   ],
   "source": [
    "event_log"
   ]
  },
  {
   "cell_type": "code",
   "execution_count": 64,
   "id": "9124afab-5a31-4e11-b471-89856722d12b",
   "metadata": {
    "colab": {
     "base_uri": "https://localhost:8080/"
    },
    "executionInfo": {
     "elapsed": 11,
     "status": "ok",
     "timestamp": 1675188179715,
     "user": {
      "displayName": "PEDRO PAULO ARAÚJO DE PAULA E SILVA",
      "userId": "07027869604458013937"
     },
     "user_tz": 240
    },
    "id": "9124afab-5a31-4e11-b471-89856722d12b",
    "outputId": "20fe2573-5168-4e58-af83-a89db1ac296a"
   },
   "outputs": [
    {
     "data": {
      "text/plain": [
       "{'attributes': {'concept:name': '107'}, 'events': [{'case_id': 107, 'activity_id': 2, 'time_stamp': Timestamp('2023-09-24 10:06:35+0000', tz='UTC'), 'product_id': 107, 'concept:name': '2', 'time:timestamp': Timestamp('2023-09-24 10:06:35+0000', tz='UTC'), '@@index': 20, '@@case_index': 10}]}"
      ]
     },
     "execution_count": 64,
     "metadata": {},
     "output_type": "execute_result"
    }
   ],
   "source": [
    "## Printing the first trace\n",
    "event_log[10]  "
   ]
  },
  {
   "cell_type": "code",
   "execution_count": 65,
   "id": "873da048-c162-4c58-ae16-0ff49870396b",
   "metadata": {
    "colab": {
     "base_uri": "https://localhost:8080/"
    },
    "executionInfo": {
     "elapsed": 501,
     "status": "ok",
     "timestamp": 1675188182582,
     "user": {
      "displayName": "PEDRO PAULO ARAÚJO DE PAULA E SILVA",
      "userId": "07027869604458013937"
     },
     "user_tz": 240
    },
    "id": "873da048-c162-4c58-ae16-0ff49870396b",
    "outputId": "77275321-6c62-4f7f-c68a-368367d4ffcc"
   },
   "outputs": [
    {
     "data": {
      "text/plain": [
       "{'case_id': 0, 'activity_id': 0, 'time_stamp': Timestamp('2023-09-24 09:30:55+0000', tz='UTC'), 'product_id': 0, 'concept:name': '0', 'time:timestamp': Timestamp('2023-09-24 09:30:55+0000', tz='UTC'), '@@index': 0, '@@case_index': 0}"
      ]
     },
     "execution_count": 65,
     "metadata": {},
     "output_type": "execute_result"
    }
   ],
   "source": [
    "## printing the first event in first trace\n",
    "event_log[0][0] "
   ]
  },
  {
   "cell_type": "code",
   "execution_count": 66,
   "id": "15980136-208e-43e5-a039-d73ba2118a9b",
   "metadata": {
    "id": "15980136-208e-43e5-a039-d73ba2118a9b"
   },
   "outputs": [],
   "source": [
    "from pm4py.algo.filtering.log.start_activities import start_activities_filter\n",
    "from pm4py.algo.filtering.log.end_activities import end_activities_filter"
   ]
  },
  {
   "cell_type": "code",
   "execution_count": 67,
   "id": "f3959973-b99e-4039-96ee-ea3cb7478500",
   "metadata": {
    "colab": {
     "base_uri": "https://localhost:8080/"
    },
    "executionInfo": {
     "elapsed": 2,
     "status": "ok",
     "timestamp": 1675188184636,
     "user": {
      "displayName": "PEDRO PAULO ARAÚJO DE PAULA E SILVA",
      "userId": "07027869604458013937"
     },
     "user_tz": 240
    },
    "id": "f3959973-b99e-4039-96ee-ea3cb7478500",
    "outputId": "117c76e0-3757-4d3e-9e81-096103197979"
   },
   "outputs": [
    {
     "data": {
      "text/plain": [
       "[{'attributes': {'concept:name': '107'}, 'events': [{'case_id': 107, 'activity_id': 2, 'time_stamp': Timestamp('2023-09-24 10:06:35+0000', tz='UTC'), 'product_id': 107, 'concept:name': '2', 'time:timestamp': Timestamp('2023-09-24 10:06:35+0000', tz='UTC'), '@@index': 20, '@@case_index': 10}]}, '....', {'attributes': {'concept:name': '230'}, 'events': [{'case_id': 230, 'activity_id': 0, 'time_stamp': Timestamp('2023-09-24 10:20:15+0000', tz='UTC'), 'product_id': 230, 'concept:name': '0', 'time:timestamp': Timestamp('2023-09-24 10:20:15+0000', tz='UTC'), '@@index': 171, '@@case_index': 106}]}]"
      ]
     },
     "execution_count": 67,
     "metadata": {},
     "output_type": "execute_result"
    }
   ],
   "source": [
    "#Filter on case performance\n",
    "filtered_log = pm4py.filter_case_performance(event_log, 0, 10)\n",
    "filtered_log"
   ]
  },
  {
   "cell_type": "code",
   "execution_count": 68,
   "id": "0dc2fa8e-8451-4c78-9e07-9e8f761613a4",
   "metadata": {
    "colab": {
     "base_uri": "https://localhost:8080/"
    },
    "executionInfo": {
     "elapsed": 603,
     "status": "ok",
     "timestamp": 1675188213922,
     "user": {
      "displayName": "PEDRO PAULO ARAÚJO DE PAULA E SILVA",
      "userId": "07027869604458013937"
     },
     "user_tz": 240
    },
    "id": "0dc2fa8e-8451-4c78-9e07-9e8f761613a4",
    "outputId": "e11ae5f3-47c9-4f3a-edb3-a430b3424a9a"
   },
   "outputs": [
    {
     "data": {
      "text/plain": [
       "{'0': 116, '2': 74}"
      ]
     },
     "execution_count": 68,
     "metadata": {},
     "output_type": "execute_result"
    }
   ],
   "source": [
    "# Printing the start activity in our log\n",
    "log_start = start_activities_filter.get_start_activities(event_log)\n",
    "log_start  "
   ]
  },
  {
   "cell_type": "code",
   "execution_count": 69,
   "id": "f2c669e0-0096-4f3e-83c5-170696a4cf03",
   "metadata": {
    "colab": {
     "base_uri": "https://localhost:8080/"
    },
    "executionInfo": {
     "elapsed": 436,
     "status": "ok",
     "timestamp": 1675188217610,
     "user": {
      "displayName": "PEDRO PAULO ARAÚJO DE PAULA E SILVA",
      "userId": "07027869604458013937"
     },
     "user_tz": 240
    },
    "id": "f2c669e0-0096-4f3e-83c5-170696a4cf03",
    "outputId": "ec25d401-5ada-4703-bdb2-51085d655cf6"
   },
   "outputs": [
    {
     "data": {
      "text/plain": [
       "{'1': 148, '2': 21, '0': 21}"
      ]
     },
     "execution_count": 69,
     "metadata": {},
     "output_type": "execute_result"
    }
   ],
   "source": [
    "# Printing the end activity in our log\n",
    "end_activities = end_activities_filter.get_end_activities(event_log)\n",
    "end_activities  "
   ]
  },
  {
   "cell_type": "code",
   "execution_count": 70,
   "id": "fad9debf-11c1-4135-9deb-7671016498f7",
   "metadata": {
    "colab": {
     "base_uri": "https://localhost:8080/"
    },
    "executionInfo": {
     "elapsed": 702,
     "status": "ok",
     "timestamp": 1675188220660,
     "user": {
      "displayName": "PEDRO PAULO ARAÚJO DE PAULA E SILVA",
      "userId": "07027869604458013937"
     },
     "user_tz": 240
    },
    "id": "fad9debf-11c1-4135-9deb-7671016498f7",
    "outputId": "4a26428f-ce0b-4ce2-9705-47fa3c65c73d"
   },
   "outputs": [
    {
     "name": "stdout",
     "output_type": "stream",
     "text": [
      "We have:4 variants in our log\n"
     ]
    }
   ],
   "source": [
    "#Before applying one of the many process mining algorithms, \n",
    "#it will be informatives if we get some statistics describing our\n",
    "#log and process will start by understanding how many variants we have? how many cases in each variant?\n",
    "#A process variant is a unique path from the very beginning to the very end of the process\n",
    "\n",
    "from pm4py.algo.filtering.log.variants import variants_filter\n",
    "from pm4py.statistics.traces.generic.log import case_statistics\n",
    "variants = variants_filter.get_variants(event_log)\n",
    "print(f\"We have:{len(variants)} variants in our log\")"
   ]
  },
  {
   "cell_type": "code",
   "execution_count": 71,
   "id": "39183c7a-623a-4637-9e61-fd1faf73d5cb",
   "metadata": {
    "colab": {
     "base_uri": "https://localhost:8080/"
    },
    "executionInfo": {
     "elapsed": 3,
     "status": "ok",
     "timestamp": 1675188221937,
     "user": {
      "displayName": "PEDRO PAULO ARAÚJO DE PAULA E SILVA",
      "userId": "07027869604458013937"
     },
     "user_tz": 240
    },
    "id": "39183c7a-623a-4637-9e61-fd1faf73d5cb",
    "outputId": "b9f25ce9-dc91-4aae-a36c-e47a5d8a42f4"
   },
   "outputs": [
    {
     "data": {
      "text/plain": [
       "[{'variant': ('0', '1'), 'count': 95},\n",
       " {'variant': ('2', '1'), 'count': 53},\n",
       " {'variant': ('2',), 'count': 21},\n",
       " {'variant': ('0',), 'count': 21}]"
      ]
     },
     "execution_count": 71,
     "metadata": {},
     "output_type": "execute_result"
    }
   ],
   "source": [
    "## Let's try to understand how many cases do those operations sequences variants have?\n",
    "\n",
    "variants_count = case_statistics.get_variant_statistics(event_log)\n",
    "variants_count = sorted(variants_count, key=lambda x: x['count'], reverse=True)\n",
    "variants_count[:10] ## Printing the top 10 variants by case number"
   ]
  },
  {
   "cell_type": "code",
   "execution_count": 72,
   "id": "a107f8b2-687e-4cbc-8cbc-c6207810b0e8",
   "metadata": {
    "colab": {
     "base_uri": "https://localhost:8080/"
    },
    "executionInfo": {
     "elapsed": 6,
     "status": "ok",
     "timestamp": 1675188223995,
     "user": {
      "displayName": "PEDRO PAULO ARAÚJO DE PAULA E SILVA",
      "userId": "07027869604458013937"
     },
     "user_tz": 240
    },
    "id": "a107f8b2-687e-4cbc-8cbc-c6207810b0e8",
    "outputId": "848c4298-9855-4e18-e7d6-31b4e59200f8"
   },
   "outputs": [
    {
     "data": {
      "text/plain": [
       "{'0': 116, '1': 148, '2': 74}"
      ]
     },
     "execution_count": 72,
     "metadata": {},
     "output_type": "execute_result"
    }
   ],
   "source": [
    "## Let's see what activities do we have in log? including their frequencies and considering all cases(no filter)\n",
    "\n",
    "from pm4py.algo.filtering.log.attributes import attributes_filter\n",
    "activities = attributes_filter.get_attribute_values(event_log, \"concept:name\")\n",
    "activities"
   ]
  },
  {
   "cell_type": "markdown",
   "id": "cfab9026-dfd1-439e-870a-90436ed2fd25",
   "metadata": {
    "id": "cfab9026-dfd1-439e-870a-90436ed2fd25"
   },
   "source": [
    "## 1. Alpha Miner:\n",
    "The starting point for the Alpha algorithm are ordering relations (sorted by timestamp ofc) So, we do not consider the frequencies nor we consider other attributes!"
   ]
  },
  {
   "cell_type": "code",
   "execution_count": 73,
   "id": "42d892b3-46c5-485b-87af-c5c866c5781d",
   "metadata": {
    "colab": {
     "base_uri": "https://localhost:8080/",
     "height": 306
    },
    "executionInfo": {
     "elapsed": 1531,
     "status": "ok",
     "timestamp": 1675188229813,
     "user": {
      "displayName": "PEDRO PAULO ARAÚJO DE PAULA E SILVA",
      "userId": "07027869604458013937"
     },
     "user_tz": 240
    },
    "id": "42d892b3-46c5-485b-87af-c5c866c5781d",
    "outputId": "57a89bf4-4b82-4b3f-b62d-9653276c9ada"
   },
   "outputs": [
    {
     "data": {
      "image/png": "[encoded data removed]",
      "text/plain": [
       "<IPython.core.display.Image object>"
      ]
     },
     "metadata": {},
     "output_type": "display_data"
    }
   ],
   "source": [
    "import os\n",
    "os.environ[\"PATH\"] += os.pathsep + 'C:/ProgramData/Anaconda3/Library/bin/graphviz/'\n",
    "net, initial_marking, final_marking = alpha_miner.apply(event_log)\n",
    "gviz = pn_visualizer.apply(net, initial_marking, final_marking)\n",
    "pn_visualizer.view(gviz)"
   ]
  },
  {
   "cell_type": "code",
   "execution_count": 74,
   "id": "66859066-961c-4e08-b700-f8c292d58edf",
   "metadata": {
    "colab": {
     "base_uri": "https://localhost:8080/",
     "height": 441,
     "referenced_widgets": [
      "57301ba4b0ef4b24aaec700109f80950",
      "b626e525902f423eb040257261da5e5c",
      "173b7bca875e4eaeb79d1c29aa223f76",
      "e8749972207b49c897924e4da3cf6827",
      "d2be83514d914a4aa35964390aa3ecf0",
      "79c32cddabf74f278b795474cbf0bec3",
      "c391a52fe36247bea0e74631a25865ce",
      "2c68bf47968047ccab81847fb8e80c55",
      "70f2f76ff94a4b0fa73e8b0b9c03f66e",
      "b6ecf7d6e6b3469f80d0039968e2ac2f",
      "ee3acd4faa6f4f8dbd3b1516c59ed8f3"
     ]
    },
    "executionInfo": {
     "elapsed": 2050,
     "status": "ok",
     "timestamp": 1675188236814,
     "user": {
      "displayName": "PEDRO PAULO ARAÚJO DE PAULA E SILVA",
      "userId": "07027869604458013937"
     },
     "user_tz": 240
    },
    "id": "66859066-961c-4e08-b700-f8c292d58edf",
    "outputId": "d38e51be-db52-4696-e64d-9baa36c8d5b6"
   },
   "outputs": [
    {
     "name": "stderr",
     "output_type": "stream",
     "text": [
      "replaying log with TBR, completed variants :: 100%|██████████| 4/4 [00:00<00:00, 3433.73it/s]\n"
     ]
    },
    {
     "data": {
      "image/png": "[encoded data removed]",
      "text/plain": [
       "<IPython.core.display.Image object>"
      ]
     },
     "metadata": {},
     "output_type": "display_data"
    }
   ],
   "source": [
    "## Adding frequency\n",
    "\n",
    "parameters = {pn_visualizer.Variants.FREQUENCY.value.Parameters.FORMAT: \"png\"}\n",
    "gviz = pn_visualizer.apply(net, initial_marking, final_marking, \n",
    "                           parameters=parameters,\n",
    "                           variant=pn_visualizer.Variants.FREQUENCY,\n",
    "                           log=event_log)\n",
    "pn_visualizer.view(gviz)"
   ]
  },
  {
   "cell_type": "markdown",
   "id": "c8e12859-53ed-4156-9116-c384231eb8bc",
   "metadata": {
    "id": "c8e12859-53ed-4156-9116-c384231eb8bc"
   },
   "source": [
    "## 2. Inductive minner\n",
    "\n",
    "As per PM4Py documentation, The basic idea of Inductive Miner is about detecting a 'cut' in the log (e.g. sequential cut, parallel cut, concurrent cut and loop cut) and then recur on sublogs, which were found applying the cut, until a base case is found. The Directly-Follows variant avoids the recursion on the sublogs but uses the Directly Follows graph\n",
    "\n",
    "\" * \" is the loop, \"->\" is the sequence operator, \"X\" is the exclusive choice"
   ]
  },
  {
   "cell_type": "code",
   "execution_count": 75,
   "id": "afb729a4-96e7-47a4-a826-029a78fb3b87",
   "metadata": {
    "id": "afb729a4-96e7-47a4-a826-029a78fb3b87",
    "outputId": "e6ea95ff-5b7d-441d-96c3-c5e009295d99"
   },
   "outputs": [
    {
     "data": {
      "image/png": "[encoded data removed]",
      "text/plain": [
       "<IPython.core.display.Image object>"
      ]
     },
     "metadata": {},
     "output_type": "display_data"
    }
   ],
   "source": [
    "## In case you want to Convert the inductive miner into petri-net\n",
    "\n",
    "net, initial_marking, final_marking = pm4py.discover_petri_net_inductive(event_log)\n",
    "\n",
    "gviz = pn_visualizer.apply(net, initial_marking, final_marking)\n",
    "pn_visualizer.view(gviz)"
   ]
  },
  {
   "cell_type": "markdown",
   "id": "4fc6c904-c7f7-47c4-92ff-ce29e9aacb97",
   "metadata": {
    "id": "4fc6c904-c7f7-47c4-92ff-ce29e9aacb97"
   },
   "source": [
    "## 3. Heuristic Miner\n",
    "Heuristics Miner is an algorithm that acts on the Directly-Follows Graph. The output of the Heuristics Miner is an Heuristics Net"
   ]
  },
  {
   "cell_type": "code",
   "execution_count": 76,
   "id": "659f6261-afcc-4c8e-9640-0a5cf8ad4d56",
   "metadata": {
    "id": "659f6261-afcc-4c8e-9640-0a5cf8ad4d56",
    "outputId": "3dba0b1c-4fef-44e2-d181-753ac68d1dd5"
   },
   "outputs": [
    {
     "data": {
      "image/png": "[encoded data removed]",
      "text/plain": [
       "<IPython.core.display.Image object>"
      ]
     },
     "metadata": {},
     "output_type": "display_data"
    }
   ],
   "source": [
    "heu_net = heuristics_miner.apply_heu(event_log, parameters={heuristics_miner.Variants.CLASSIC.value.Parameters.DEPENDENCY_THRESH: 0.5})\n",
    "gviz = hn_visualizer.apply(heu_net)\n",
    "hn_visualizer.view(gviz)"
   ]
  },
  {
   "cell_type": "markdown",
   "id": "25b6fb73-8bf7-46b2-9edf-5f69617e72a2",
   "metadata": {
    "id": "25b6fb73-8bf7-46b2-9edf-5f69617e72a2"
   },
   "source": [
    "## 4. DFG - Direct flows graph with frequency and time between the edges"
   ]
  },
  {
   "cell_type": "code",
   "execution_count": 77,
   "id": "ad29927a-cb95-4f96-ac8f-da9e1a4584ab",
   "metadata": {
    "id": "ad29927a-cb95-4f96-ac8f-da9e1a4584ab",
    "outputId": "49d805da-be08-4982-e273-e93c7210bec4"
   },
   "outputs": [
    {
     "data": {
      "image/png": "[encoded data removed]",
      "text/plain": [
       "<IPython.core.display.Image object>"
      ]
     },
     "metadata": {},
     "output_type": "display_data"
    }
   ],
   "source": [
    "## First let's take the frequency:\n",
    "\n",
    "dfg = dfg_discovery.apply(event_log)\n",
    "\n",
    "from pm4py.visualization.dfg import visualizer as dfg_visualization\n",
    "gviz = dfg_visualization.apply(dfg, log=event_log, variant=dfg_visualization.Variants.FREQUENCY)\n",
    "dfg_visualization.view(gviz)"
   ]
  },
  {
   "cell_type": "code",
   "execution_count": 78,
   "id": "755e1d0f-6db4-47c1-b408-22ddc06414ed",
   "metadata": {
    "id": "755e1d0f-6db4-47c1-b408-22ddc06414ed",
    "outputId": "c90a6fc5-809c-45fa-fa11-c09188ad0d9c"
   },
   "outputs": [
    {
     "data": {
      "image/png": "[encoded data removed]",
      "text/plain": [
       "<IPython.core.display.Image object>"
      ]
     },
     "metadata": {},
     "output_type": "display_data"
    }
   ],
   "source": [
    "## Let's now take how much time it takes to travel between activities in our process\n",
    "\n",
    "dfg = dfg_discovery.apply(event_log, variant=dfg_discovery.Variants.PERFORMANCE)\n",
    "gviz = dfg_visualization.apply(dfg, log=event_log, variant=dfg_visualization.Variants.PERFORMANCE)\n",
    "dfg_visualization.view(gviz)"
   ]
  },
  {
   "cell_type": "code",
   "execution_count": 79,
   "id": "5e825df6-0256-45a4-8003-ec8b934b6946",
   "metadata": {
    "id": "5e825df6-0256-45a4-8003-ec8b934b6946",
    "outputId": "5f5463dc-5961-4ce3-cdc5-0bd9b7abc4e0"
   },
   "outputs": [
    {
     "data": {
      "image/png": "[encoded data removed]",
      "text/plain": [
       "<IPython.core.display.Image object>"
      ]
     },
     "metadata": {},
     "output_type": "display_data"
    }
   ],
   "source": [
    "# Convert Directly-Follows Graph to a Workflow Net\n",
    "\n",
    "from pm4py.objects.conversion.dfg import converter as dfg_mining\n",
    "net, im, fm = dfg_mining.apply(dfg)\n",
    "gviz = pn_visualizer.apply(net, im, fm)\n",
    "pn_visualizer.view(gviz)"
   ]
  },
  {
   "cell_type": "code",
   "execution_count": 80,
   "id": "75de9c9c-9fb5-4d6d-acac-434f5c09de8c",
   "metadata": {
    "id": "75de9c9c-9fb5-4d6d-acac-434f5c09de8c",
    "outputId": "48f646be-c45c-41a3-8a0b-4c167bb6716c"
   },
   "outputs": [
    {
     "data": {
      "text/plain": [
       "count    190.000000\n",
       "mean       6.445614\n",
       "std        5.216221\n",
       "min        0.000000\n",
       "25%        1.000000\n",
       "50%        6.166667\n",
       "75%       11.333333\n",
       "max       14.000000\n",
       "dtype: float64"
      ]
     },
     "execution_count": 80,
     "metadata": {},
     "output_type": "execute_result"
    }
   ],
   "source": [
    "# Calculate all cases duration and describe\n",
    "all_case_durations = pm4py.get_all_case_durations(event_log)\n",
    "all_case_durations_min = [x / 60 for x in all_case_durations]\n",
    "pd.Series(all_case_durations_min).describe()"
   ]
  },
  {
   "cell_type": "code",
   "execution_count": 81,
   "id": "c0e45dbb-cf29-4812-9189-157ff2dfccf3",
   "metadata": {
    "id": "c0e45dbb-cf29-4812-9189-157ff2dfccf3",
    "outputId": "6fd20c59-9b67-4d8e-9716-1e22e5c3f57a"
   },
   "outputs": [
    {
     "data": {
      "text/plain": [
       "[0.0,\n",
       " 0.0,\n",
       " 0.0,\n",
       " 0.0,\n",
       " 0.0,\n",
       " 0.0,\n",
       " 0.0,\n",
       " 0.0,\n",
       " 0.0,\n",
       " 0.0,\n",
       " 0.0,\n",
       " 0.0,\n",
       " 0.0,\n",
       " 0.0,\n",
       " 0.0,\n",
       " 0.0,\n",
       " 0.0,\n",
       " 0.0,\n",
       " 0.0,\n",
       " 0.0,\n",
       " 0.0,\n",
       " 0.0,\n",
       " 0.0,\n",
       " 0.0,\n",
       " 0.0,\n",
       " 0.0,\n",
       " 0.0,\n",
       " 0.0,\n",
       " 0.0,\n",
       " 0.0,\n",
       " 0.0,\n",
       " 0.0,\n",
       " 0.0,\n",
       " 0.0,\n",
       " 0.0,\n",
       " 0.0,\n",
       " 0.0,\n",
       " 0.0,\n",
       " 0.0,\n",
       " 0.0,\n",
       " 0.0,\n",
       " 0.0,\n",
       " 0.3333333333333333,\n",
       " 0.3333333333333333,\n",
       " 0.6666666666666666,\n",
       " 0.6666666666666666,\n",
       " 0.6666666666666666,\n",
       " 1.0,\n",
       " 1.0,\n",
       " 1.0,\n",
       " 1.3333333333333333,\n",
       " 1.3333333333333333,\n",
       " 1.3333333333333333,\n",
       " 1.6666666666666667,\n",
       " 1.6666666666666667,\n",
       " 1.6666666666666667,\n",
       " 2.0,\n",
       " 2.0,\n",
       " 2.0,\n",
       " 2.3333333333333335,\n",
       " 2.3333333333333335,\n",
       " 2.3333333333333335,\n",
       " 2.6666666666666665,\n",
       " 2.6666666666666665,\n",
       " 2.6666666666666665,\n",
       " 3.0,\n",
       " 3.0,\n",
       " 3.0,\n",
       " 3.3333333333333335,\n",
       " 3.3333333333333335,\n",
       " 3.3333333333333335,\n",
       " 3.6666666666666665,\n",
       " 3.6666666666666665,\n",
       " 3.6666666666666665,\n",
       " 4.0,\n",
       " 4.0,\n",
       " 4.0,\n",
       " 4.333333333333333,\n",
       " 4.333333333333333,\n",
       " 4.333333333333333,\n",
       " 4.666666666666667,\n",
       " 4.666666666666667,\n",
       " 4.666666666666667,\n",
       " 5.0,\n",
       " 5.0,\n",
       " 5.0,\n",
       " 5.333333333333333,\n",
       " 5.333333333333333,\n",
       " 5.333333333333333,\n",
       " 5.666666666666667,\n",
       " 5.666666666666667,\n",
       " 5.666666666666667,\n",
       " 6.0,\n",
       " 6.0,\n",
       " 6.0,\n",
       " 6.333333333333333,\n",
       " 6.333333333333333,\n",
       " 6.333333333333333,\n",
       " 6.666666666666667,\n",
       " 6.666666666666667,\n",
       " 6.666666666666667,\n",
       " 7.0,\n",
       " 7.0,\n",
       " 7.0,\n",
       " 7.333333333333333,\n",
       " 7.333333333333333,\n",
       " 7.333333333333333,\n",
       " 7.666666666666667,\n",
       " 7.666666666666667,\n",
       " 7.666666666666667,\n",
       " 8.0,\n",
       " 8.0,\n",
       " 8.0,\n",
       " 8.333333333333334,\n",
       " 8.333333333333334,\n",
       " 8.333333333333334,\n",
       " 8.666666666666666,\n",
       " 8.666666666666666,\n",
       " 8.666666666666666,\n",
       " 9.0,\n",
       " 9.0,\n",
       " 9.0,\n",
       " 9.333333333333334,\n",
       " 9.333333333333334,\n",
       " 9.333333333333334,\n",
       " 9.666666666666666,\n",
       " 9.666666666666666,\n",
       " 9.666666666666666,\n",
       " 10.0,\n",
       " 10.0,\n",
       " 10.0,\n",
       " 10.333333333333334,\n",
       " 10.333333333333334,\n",
       " 10.333333333333334,\n",
       " 10.666666666666666,\n",
       " 10.666666666666666,\n",
       " 10.666666666666666,\n",
       " 11.0,\n",
       " 11.0,\n",
       " 11.0,\n",
       " 11.333333333333334,\n",
       " 11.333333333333334,\n",
       " 11.333333333333334,\n",
       " 11.666666666666666,\n",
       " 11.666666666666666,\n",
       " 11.666666666666666,\n",
       " 12.0,\n",
       " 12.0,\n",
       " 12.0,\n",
       " 12.333333333333334,\n",
       " 12.333333333333334,\n",
       " 12.333333333333334,\n",
       " 12.666666666666666,\n",
       " 12.666666666666666,\n",
       " 12.666666666666666,\n",
       " 13.0,\n",
       " 13.0,\n",
       " 13.0,\n",
       " 13.333333333333334,\n",
       " 13.333333333333334,\n",
       " 13.333333333333334,\n",
       " 13.666666666666666,\n",
       " 13.666666666666666,\n",
       " 13.666666666666666,\n",
       " 14.0,\n",
       " 14.0,\n",
       " 14.0,\n",
       " 14.0,\n",
       " 14.0,\n",
       " 14.0,\n",
       " 14.0,\n",
       " 14.0,\n",
       " 14.0,\n",
       " 14.0,\n",
       " 14.0,\n",
       " 14.0,\n",
       " 14.0,\n",
       " 14.0,\n",
       " 14.0,\n",
       " 14.0,\n",
       " 14.0,\n",
       " 14.0,\n",
       " 14.0,\n",
       " 14.0,\n",
       " 14.0,\n",
       " 14.0,\n",
       " 14.0,\n",
       " 14.0,\n",
       " 14.0,\n",
       " 14.0]"
      ]
     },
     "execution_count": 81,
     "metadata": {},
     "output_type": "execute_result"
    }
   ],
   "source": [
    "all_case_durations_min"
   ]
  },
  {
   "cell_type": "code",
   "execution_count": 82,
   "id": "f24baf19-a7c9-4283-8716-63ca43b4be4a",
   "metadata": {
    "id": "f24baf19-a7c9-4283-8716-63ca43b4be4a",
    "outputId": "e2016ef2-1561-4216-f5e9-f5d146baeee9"
   },
   "outputs": [
    {
     "data": {
      "text/plain": [
       "count    190.000000\n",
       "mean       6.445614\n",
       "std        5.216221\n",
       "min        0.000000\n",
       "25%        1.000000\n",
       "50%        6.166667\n",
       "75%       11.333333\n",
       "max       14.000000\n",
       "dtype: float64"
      ]
     },
     "execution_count": 82,
     "metadata": {},
     "output_type": "execute_result"
    }
   ],
   "source": [
    "# remove outliers (z_score) from all cases duration and describe\n",
    "import numpy as np\n",
    "import pandas as pd\n",
    "\n",
    "def remove_outlier_z(data_1):\n",
    "    threshold=3\n",
    "    mean_1 = np.mean(data_1)\n",
    "    std_1 =np.std(data_1)\n",
    "    data_2 = data_1\n",
    "    for y in data_1:\n",
    "        z_score= (y - mean_1)/std_1 \n",
    "        if np.abs(z_score) > threshold:\n",
    "            data_2.remove(y)\n",
    "    return data_2\n",
    "\n",
    "acd_min_outliers_z =remove_outlier_z(all_case_durations_min)\n",
    "pd.Series(acd_min_outliers_z).describe()"
   ]
  },
  {
   "cell_type": "code",
   "execution_count": 83,
   "id": "ce0a2579-7a5a-4be1-a274-51a82af18bff",
   "metadata": {
    "id": "ce0a2579-7a5a-4be1-a274-51a82af18bff",
    "outputId": "54f7cce6-bcbc-40b2-8eac-99fb81c662a8"
   },
   "outputs": [
    {
     "data": {
      "text/plain": [
       "count    190.000000\n",
       "mean       6.445614\n",
       "std        5.216221\n",
       "min        0.000000\n",
       "25%        1.000000\n",
       "50%        6.166667\n",
       "75%       11.333333\n",
       "max       14.000000\n",
       "dtype: float64"
      ]
     },
     "execution_count": 83,
     "metadata": {},
     "output_type": "execute_result"
    }
   ],
   "source": [
    "# remove outliers (iqr) from all cases duration and describe\n",
    "\n",
    "def remove_outlier_iqr(data_1):\n",
    "    q1, q3= np.percentile(data_1,[25,75])\n",
    "    iqr = q3 - q1\n",
    "    lower_bound = q1 -(1.5 * iqr) \n",
    "    upper_bound = q3 +(1.5 * iqr)     \n",
    "    data_2 = data_1\n",
    "    for y in data_1: \n",
    "        if np.abs(y) > upper_bound or np.abs(y) < lower_bound:\n",
    "            data_2.remove(y)      \n",
    "    return data_2\n",
    "\n",
    "acd_min_outliers_iqr =remove_outlier_iqr(all_case_durations_min)\n",
    "pd.Series(acd_min_outliers_iqr).describe()"
   ]
  },
  {
   "cell_type": "code",
   "execution_count": 84,
   "id": "d84a65ca-388d-4756-9108-a12f6db020a8",
   "metadata": {
    "id": "d84a65ca-388d-4756-9108-a12f6db020a8",
    "outputId": "73bc85ae-2b3e-4a04-ecfd-6d7a4ed3a291"
   },
   "outputs": [
    {
     "data": {
      "text/plain": [
       "[0.0,\n",
       " 0.0,\n",
       " 0.0,\n",
       " 0.0,\n",
       " 0.0,\n",
       " 0.0,\n",
       " 0.0,\n",
       " 0.0,\n",
       " 0.0,\n",
       " 0.0,\n",
       " 0.0,\n",
       " 0.0,\n",
       " 0.0,\n",
       " 0.0,\n",
       " 0.0,\n",
       " 0.0,\n",
       " 0.0,\n",
       " 0.0,\n",
       " 0.0,\n",
       " 0.0,\n",
       " 0.0,\n",
       " 0.0,\n",
       " 0.0,\n",
       " 0.0,\n",
       " 0.0,\n",
       " 0.0,\n",
       " 0.0,\n",
       " 0.0,\n",
       " 0.0,\n",
       " 0.0,\n",
       " 0.0,\n",
       " 0.0,\n",
       " 0.0,\n",
       " 0.0,\n",
       " 0.0,\n",
       " 0.0,\n",
       " 0.0,\n",
       " 0.0,\n",
       " 0.0,\n",
       " 0.0,\n",
       " 0.0,\n",
       " 0.0,\n",
       " 0.3333333333333333,\n",
       " 0.3333333333333333,\n",
       " 0.6666666666666666,\n",
       " 0.6666666666666666,\n",
       " 0.6666666666666666,\n",
       " 1.0,\n",
       " 1.0,\n",
       " 1.0,\n",
       " 1.3333333333333333,\n",
       " 1.3333333333333333,\n",
       " 1.3333333333333333,\n",
       " 1.6666666666666667,\n",
       " 1.6666666666666667,\n",
       " 1.6666666666666667,\n",
       " 2.0,\n",
       " 2.0,\n",
       " 2.0,\n",
       " 2.3333333333333335,\n",
       " 2.3333333333333335,\n",
       " 2.3333333333333335,\n",
       " 2.6666666666666665,\n",
       " 2.6666666666666665,\n",
       " 2.6666666666666665,\n",
       " 3.0,\n",
       " 3.0,\n",
       " 3.0,\n",
       " 3.3333333333333335,\n",
       " 3.3333333333333335,\n",
       " 3.3333333333333335,\n",
       " 3.6666666666666665,\n",
       " 3.6666666666666665,\n",
       " 3.6666666666666665,\n",
       " 4.0,\n",
       " 4.0,\n",
       " 4.0,\n",
       " 4.333333333333333,\n",
       " 4.333333333333333,\n",
       " 4.333333333333333,\n",
       " 4.666666666666667,\n",
       " 4.666666666666667,\n",
       " 4.666666666666667,\n",
       " 5.0,\n",
       " 5.0,\n",
       " 5.0,\n",
       " 5.333333333333333,\n",
       " 5.333333333333333,\n",
       " 5.333333333333333,\n",
       " 5.666666666666667,\n",
       " 5.666666666666667,\n",
       " 5.666666666666667,\n",
       " 6.0,\n",
       " 6.0,\n",
       " 6.0,\n",
       " 6.333333333333333,\n",
       " 6.333333333333333,\n",
       " 6.333333333333333,\n",
       " 6.666666666666667,\n",
       " 6.666666666666667,\n",
       " 6.666666666666667,\n",
       " 7.0,\n",
       " 7.0,\n",
       " 7.0,\n",
       " 7.333333333333333,\n",
       " 7.333333333333333,\n",
       " 7.333333333333333,\n",
       " 7.666666666666667,\n",
       " 7.666666666666667,\n",
       " 7.666666666666667,\n",
       " 8.0,\n",
       " 8.0,\n",
       " 8.0,\n",
       " 8.333333333333334,\n",
       " 8.333333333333334,\n",
       " 8.333333333333334,\n",
       " 8.666666666666666,\n",
       " 8.666666666666666,\n",
       " 8.666666666666666,\n",
       " 9.0,\n",
       " 9.0,\n",
       " 9.0,\n",
       " 9.333333333333334,\n",
       " 9.333333333333334,\n",
       " 9.333333333333334,\n",
       " 9.666666666666666,\n",
       " 9.666666666666666,\n",
       " 9.666666666666666,\n",
       " 10.0,\n",
       " 10.0,\n",
       " 10.0,\n",
       " 10.333333333333334,\n",
       " 10.333333333333334,\n",
       " 10.333333333333334,\n",
       " 10.666666666666666,\n",
       " 10.666666666666666,\n",
       " 10.666666666666666,\n",
       " 11.0,\n",
       " 11.0,\n",
       " 11.0,\n",
       " 11.333333333333334,\n",
       " 11.333333333333334,\n",
       " 11.333333333333334,\n",
       " 11.666666666666666,\n",
       " 11.666666666666666,\n",
       " 11.666666666666666,\n",
       " 12.0,\n",
       " 12.0,\n",
       " 12.0,\n",
       " 12.333333333333334,\n",
       " 12.333333333333334,\n",
       " 12.333333333333334,\n",
       " 12.666666666666666,\n",
       " 12.666666666666666,\n",
       " 12.666666666666666,\n",
       " 13.0,\n",
       " 13.0,\n",
       " 13.0,\n",
       " 13.333333333333334,\n",
       " 13.333333333333334,\n",
       " 13.333333333333334,\n",
       " 13.666666666666666,\n",
       " 13.666666666666666,\n",
       " 13.666666666666666,\n",
       " 14.0,\n",
       " 14.0,\n",
       " 14.0,\n",
       " 14.0,\n",
       " 14.0,\n",
       " 14.0,\n",
       " 14.0,\n",
       " 14.0,\n",
       " 14.0,\n",
       " 14.0,\n",
       " 14.0,\n",
       " 14.0,\n",
       " 14.0,\n",
       " 14.0,\n",
       " 14.0,\n",
       " 14.0,\n",
       " 14.0,\n",
       " 14.0,\n",
       " 14.0,\n",
       " 14.0,\n",
       " 14.0,\n",
       " 14.0,\n",
       " 14.0,\n",
       " 14.0,\n",
       " 14.0,\n",
       " 14.0]"
      ]
     },
     "execution_count": 84,
     "metadata": {},
     "output_type": "execute_result"
    }
   ],
   "source": [
    "acd_min_outliers_iqr"
   ]
  },
  {
   "cell_type": "markdown",
   "id": "d6c71872-038a-45ac-931d-7dbd8b914a53",
   "metadata": {
    "id": "d6c71872-038a-45ac-931d-7dbd8b914a53"
   },
   "source": [
    "## SCRATCH"
   ]
  },
  {
   "cell_type": "code",
   "execution_count": 85,
   "id": "1c12dda1-e716-4be7-afbe-b182c77a9858",
   "metadata": {
    "id": "1c12dda1-e716-4be7-afbe-b182c77a9858",
    "outputId": "a2dc183b-8597-478d-ecd1-8aee7d21a3f7"
   },
   "outputs": [
    {
     "data": {
      "text/plain": [
       "15.661375661375661"
      ]
     },
     "execution_count": 85,
     "metadata": {},
     "output_type": "execute_result"
    }
   ],
   "source": [
    "case_arrival_ratio = pm4py.get_case_arrival_average(event_log)\n",
    "case_arrival_ratio"
   ]
  },
  {
   "cell_type": "code",
   "execution_count": 86,
   "id": "b63bd3a2-2612-440e-9dd0-2eafa8b70eef",
   "metadata": {
    "id": "b63bd3a2-2612-440e-9dd0-2eafa8b70eef",
    "outputId": "ba7b1242-e872-4afc-ef46-ff348971f0b7"
   },
   "outputs": [
    {
     "data": {
      "text/plain": [
       "15.555555555555555"
      ]
     },
     "execution_count": 86,
     "metadata": {},
     "output_type": "execute_result"
    }
   ],
   "source": [
    "from pm4py.statistics.traces.generic.log import case_arrival\n",
    "case_dispersion_ratio = case_arrival.get_case_dispersion_avg(event_log, parameters={\n",
    "        case_arrival.Parameters.TIMESTAMP_KEY: \"time:timestamp\"})\n",
    "case_dispersion_ratio"
   ]
  },
  {
   "cell_type": "code",
   "execution_count": 87,
   "id": "585abcba-cb0a-4d8b-93eb-388e33e7b547",
   "metadata": {
    "id": "585abcba-cb0a-4d8b-93eb-388e33e7b547",
    "outputId": "e70d400d-5c13-4b69-b647-5fd6f90976a8"
   },
   "outputs": [
    {
     "data": {
      "text/plain": [
       "0.0"
      ]
     },
     "execution_count": 87,
     "metadata": {},
     "output_type": "execute_result"
    }
   ],
   "source": [
    "from pm4py.utils import get_properties\n",
    "from pm4py.statistics.traces.cycle_time.log import get as cycle_time\n",
    "cycle_time = cycle_time.apply(event_log, parameters={\n",
    "        case_arrival.Parameters.TIMESTAMP_KEY: \"time:timestamp\"})\n",
    "cycle_time"
   ]
  },
  {
   "cell_type": "code",
   "execution_count": 88,
   "id": "a902c8b9-682f-4cad-a77f-40a06b40c944",
   "metadata": {
    "id": "a902c8b9-682f-4cad-a77f-40a06b40c944",
    "outputId": "fbf3fffd-81bf-46a4-e954-5826a38a842c"
   },
   "outputs": [
    {
     "data": {
      "text/plain": [
       "{'0': {'number_activities': 2, 'rework': 0},\n",
       " '1': {'number_activities': 2, 'rework': 0},\n",
       " '10': {'number_activities': 2, 'rework': 0},\n",
       " '100': {'number_activities': 2, 'rework': 0},\n",
       " '101': {'number_activities': 2, 'rework': 0},\n",
       " '102': {'number_activities': 2, 'rework': 0},\n",
       " '103': {'number_activities': 2, 'rework': 0},\n",
       " '104': {'number_activities': 2, 'rework': 0},\n",
       " '105': {'number_activities': 2, 'rework': 0},\n",
       " '106': {'number_activities': 2, 'rework': 0},\n",
       " '107': {'number_activities': 1, 'rework': 0},\n",
       " '108': {'number_activities': 2, 'rework': 0},\n",
       " '109': {'number_activities': 1, 'rework': 0},\n",
       " '11': {'number_activities': 2, 'rework': 0},\n",
       " '110': {'number_activities': 2, 'rework': 0},\n",
       " '111': {'number_activities': 1, 'rework': 0},\n",
       " '112': {'number_activities': 2, 'rework': 0},\n",
       " '113': {'number_activities': 1, 'rework': 0},\n",
       " '114': {'number_activities': 2, 'rework': 0},\n",
       " '115': {'number_activities': 1, 'rework': 0},\n",
       " '116': {'number_activities': 2, 'rework': 0},\n",
       " '117': {'number_activities': 1, 'rework': 0},\n",
       " '118': {'number_activities': 2, 'rework': 0},\n",
       " '119': {'number_activities': 1, 'rework': 0},\n",
       " '12': {'number_activities': 2, 'rework': 0},\n",
       " '120': {'number_activities': 2, 'rework': 0},\n",
       " '121': {'number_activities': 1, 'rework': 0},\n",
       " '122': {'number_activities': 2, 'rework': 0},\n",
       " '123': {'number_activities': 1, 'rework': 0},\n",
       " '124': {'number_activities': 2, 'rework': 0},\n",
       " '125': {'number_activities': 1, 'rework': 0},\n",
       " '126': {'number_activities': 2, 'rework': 0},\n",
       " '127': {'number_activities': 1, 'rework': 0},\n",
       " '128': {'number_activities': 2, 'rework': 0},\n",
       " '129': {'number_activities': 1, 'rework': 0},\n",
       " '13': {'number_activities': 2, 'rework': 0},\n",
       " '130': {'number_activities': 2, 'rework': 0},\n",
       " '131': {'number_activities': 1, 'rework': 0},\n",
       " '132': {'number_activities': 2, 'rework': 0},\n",
       " '133': {'number_activities': 1, 'rework': 0},\n",
       " '134': {'number_activities': 2, 'rework': 0},\n",
       " '135': {'number_activities': 1, 'rework': 0},\n",
       " '136': {'number_activities': 2, 'rework': 0},\n",
       " '137': {'number_activities': 1, 'rework': 0},\n",
       " '138': {'number_activities': 2, 'rework': 0},\n",
       " '139': {'number_activities': 1, 'rework': 0},\n",
       " '14': {'number_activities': 2, 'rework': 0},\n",
       " '140': {'number_activities': 2, 'rework': 0},\n",
       " '141': {'number_activities': 1, 'rework': 0},\n",
       " '142': {'number_activities': 2, 'rework': 0},\n",
       " '143': {'number_activities': 1, 'rework': 0},\n",
       " '144': {'number_activities': 2, 'rework': 0},\n",
       " '145': {'number_activities': 1, 'rework': 0},\n",
       " '146': {'number_activities': 2, 'rework': 0},\n",
       " '147': {'number_activities': 1, 'rework': 0},\n",
       " '148': {'number_activities': 2, 'rework': 0},\n",
       " '15': {'number_activities': 2, 'rework': 0},\n",
       " '150': {'number_activities': 2, 'rework': 0},\n",
       " '152': {'number_activities': 2, 'rework': 0},\n",
       " '154': {'number_activities': 2, 'rework': 0},\n",
       " '156': {'number_activities': 2, 'rework': 0},\n",
       " '158': {'number_activities': 2, 'rework': 0},\n",
       " '16': {'number_activities': 2, 'rework': 0},\n",
       " '160': {'number_activities': 2, 'rework': 0},\n",
       " '162': {'number_activities': 2, 'rework': 0},\n",
       " '164': {'number_activities': 2, 'rework': 0},\n",
       " '166': {'number_activities': 2, 'rework': 0},\n",
       " '168': {'number_activities': 2, 'rework': 0},\n",
       " '17': {'number_activities': 2, 'rework': 0},\n",
       " '170': {'number_activities': 2, 'rework': 0},\n",
       " '172': {'number_activities': 2, 'rework': 0},\n",
       " '174': {'number_activities': 2, 'rework': 0},\n",
       " '176': {'number_activities': 2, 'rework': 0},\n",
       " '178': {'number_activities': 2, 'rework': 0},\n",
       " '18': {'number_activities': 2, 'rework': 0},\n",
       " '180': {'number_activities': 2, 'rework': 0},\n",
       " '182': {'number_activities': 2, 'rework': 0},\n",
       " '184': {'number_activities': 2, 'rework': 0},\n",
       " '186': {'number_activities': 2, 'rework': 0},\n",
       " '188': {'number_activities': 2, 'rework': 0},\n",
       " '19': {'number_activities': 2, 'rework': 0},\n",
       " '190': {'number_activities': 1, 'rework': 0},\n",
       " '192': {'number_activities': 1, 'rework': 0},\n",
       " '194': {'number_activities': 1, 'rework': 0},\n",
       " '196': {'number_activities': 1, 'rework': 0},\n",
       " '198': {'number_activities': 1, 'rework': 0},\n",
       " '2': {'number_activities': 2, 'rework': 0},\n",
       " '20': {'number_activities': 2, 'rework': 0},\n",
       " '200': {'number_activities': 1, 'rework': 0},\n",
       " '202': {'number_activities': 1, 'rework': 0},\n",
       " '204': {'number_activities': 1, 'rework': 0},\n",
       " '206': {'number_activities': 1, 'rework': 0},\n",
       " '208': {'number_activities': 1, 'rework': 0},\n",
       " '21': {'number_activities': 2, 'rework': 0},\n",
       " '210': {'number_activities': 1, 'rework': 0},\n",
       " '212': {'number_activities': 1, 'rework': 0},\n",
       " '214': {'number_activities': 1, 'rework': 0},\n",
       " '216': {'number_activities': 1, 'rework': 0},\n",
       " '218': {'number_activities': 1, 'rework': 0},\n",
       " '22': {'number_activities': 2, 'rework': 0},\n",
       " '220': {'number_activities': 1, 'rework': 0},\n",
       " '222': {'number_activities': 1, 'rework': 0},\n",
       " '224': {'number_activities': 1, 'rework': 0},\n",
       " '226': {'number_activities': 1, 'rework': 0},\n",
       " '228': {'number_activities': 1, 'rework': 0},\n",
       " '23': {'number_activities': 2, 'rework': 0},\n",
       " '230': {'number_activities': 1, 'rework': 0},\n",
       " '24': {'number_activities': 2, 'rework': 0},\n",
       " '25': {'number_activities': 2, 'rework': 0},\n",
       " '26': {'number_activities': 2, 'rework': 0},\n",
       " '27': {'number_activities': 2, 'rework': 0},\n",
       " '28': {'number_activities': 2, 'rework': 0},\n",
       " '29': {'number_activities': 2, 'rework': 0},\n",
       " '3': {'number_activities': 2, 'rework': 0},\n",
       " '30': {'number_activities': 2, 'rework': 0},\n",
       " '31': {'number_activities': 2, 'rework': 0},\n",
       " '32': {'number_activities': 2, 'rework': 0},\n",
       " '33': {'number_activities': 2, 'rework': 0},\n",
       " '34': {'number_activities': 2, 'rework': 0},\n",
       " '35': {'number_activities': 2, 'rework': 0},\n",
       " '36': {'number_activities': 2, 'rework': 0},\n",
       " '37': {'number_activities': 2, 'rework': 0},\n",
       " '38': {'number_activities': 2, 'rework': 0},\n",
       " '39': {'number_activities': 2, 'rework': 0},\n",
       " '4': {'number_activities': 2, 'rework': 0},\n",
       " '40': {'number_activities': 2, 'rework': 0},\n",
       " '41': {'number_activities': 2, 'rework': 0},\n",
       " '42': {'number_activities': 2, 'rework': 0},\n",
       " '43': {'number_activities': 2, 'rework': 0},\n",
       " '44': {'number_activities': 2, 'rework': 0},\n",
       " '45': {'number_activities': 2, 'rework': 0},\n",
       " '46': {'number_activities': 2, 'rework': 0},\n",
       " '47': {'number_activities': 2, 'rework': 0},\n",
       " '48': {'number_activities': 2, 'rework': 0},\n",
       " '49': {'number_activities': 2, 'rework': 0},\n",
       " '5': {'number_activities': 2, 'rework': 0},\n",
       " '50': {'number_activities': 2, 'rework': 0},\n",
       " '51': {'number_activities': 2, 'rework': 0},\n",
       " '52': {'number_activities': 2, 'rework': 0},\n",
       " '53': {'number_activities': 2, 'rework': 0},\n",
       " '54': {'number_activities': 2, 'rework': 0},\n",
       " '55': {'number_activities': 2, 'rework': 0},\n",
       " '56': {'number_activities': 2, 'rework': 0},\n",
       " '57': {'number_activities': 2, 'rework': 0},\n",
       " '58': {'number_activities': 2, 'rework': 0},\n",
       " '59': {'number_activities': 2, 'rework': 0},\n",
       " '6': {'number_activities': 2, 'rework': 0},\n",
       " '60': {'number_activities': 2, 'rework': 0},\n",
       " '61': {'number_activities': 2, 'rework': 0},\n",
       " '62': {'number_activities': 2, 'rework': 0},\n",
       " '63': {'number_activities': 2, 'rework': 0},\n",
       " '64': {'number_activities': 2, 'rework': 0},\n",
       " '65': {'number_activities': 2, 'rework': 0},\n",
       " '66': {'number_activities': 2, 'rework': 0},\n",
       " '67': {'number_activities': 2, 'rework': 0},\n",
       " '68': {'number_activities': 2, 'rework': 0},\n",
       " '69': {'number_activities': 2, 'rework': 0},\n",
       " '7': {'number_activities': 2, 'rework': 0},\n",
       " '70': {'number_activities': 2, 'rework': 0},\n",
       " '71': {'number_activities': 2, 'rework': 0},\n",
       " '72': {'number_activities': 2, 'rework': 0},\n",
       " '73': {'number_activities': 2, 'rework': 0},\n",
       " '74': {'number_activities': 2, 'rework': 0},\n",
       " '75': {'number_activities': 2, 'rework': 0},\n",
       " '76': {'number_activities': 2, 'rework': 0},\n",
       " '77': {'number_activities': 2, 'rework': 0},\n",
       " '78': {'number_activities': 2, 'rework': 0},\n",
       " '79': {'number_activities': 2, 'rework': 0},\n",
       " '8': {'number_activities': 2, 'rework': 0},\n",
       " '80': {'number_activities': 2, 'rework': 0},\n",
       " '81': {'number_activities': 2, 'rework': 0},\n",
       " '82': {'number_activities': 2, 'rework': 0},\n",
       " '83': {'number_activities': 2, 'rework': 0},\n",
       " '84': {'number_activities': 2, 'rework': 0},\n",
       " '85': {'number_activities': 2, 'rework': 0},\n",
       " '86': {'number_activities': 2, 'rework': 0},\n",
       " '87': {'number_activities': 2, 'rework': 0},\n",
       " '88': {'number_activities': 2, 'rework': 0},\n",
       " '89': {'number_activities': 2, 'rework': 0},\n",
       " '9': {'number_activities': 2, 'rework': 0},\n",
       " '90': {'number_activities': 2, 'rework': 0},\n",
       " '91': {'number_activities': 2, 'rework': 0},\n",
       " '92': {'number_activities': 2, 'rework': 0},\n",
       " '93': {'number_activities': 2, 'rework': 0},\n",
       " '94': {'number_activities': 2, 'rework': 0},\n",
       " '95': {'number_activities': 2, 'rework': 0},\n",
       " '96': {'number_activities': 2, 'rework': 0},\n",
       " '97': {'number_activities': 2, 'rework': 0},\n",
       " '98': {'number_activities': 2, 'rework': 0},\n",
       " '99': {'number_activities': 2, 'rework': 0}}"
      ]
     },
     "execution_count": 88,
     "metadata": {},
     "output_type": "execute_result"
    }
   ],
   "source": [
    "import pm4py\n",
    "from pm4py.statistics.rework.cases.log import get as cases_rework_get\n",
    "if __name__ == \"__main__\":\n",
    "    dictio = cases_rework_get.apply(event_log) \n",
    "dictio"
   ]
  }
 ],
 "metadata": {
  "colab": {
   "provenance": []
  },
  "kernelspec": {
   "display_name": "Python 3",
   "language": "python",
   "name": "python3"
  },
  "language_info": {
   "codemirror_mode": {
    "name": "ipython",
    "version": 3
   },
   "file_extension": ".py",
   "mimetype": "text/x-python",
   "name": "python",
   "nbconvert_exporter": "python",
   "pygments_lexer": "ipython3",
   "version": "3.9.2"
  },
  "vscode": {
   "interpreter": {
    "hash": "916dbcbb3f70747c44a77c7bcd40155683ae19c65e1c03b4aa3499c5328201f1"
   }
  },
  "widgets": {
   "application/vnd.jupyter.widget-state+json": {
    "173b7bca875e4eaeb79d1c29aa223f76": {
     "model_module": "@jupyter-widgets/controls",
     "model_module_version": "1.5.0",
     "model_name": "FloatProgressModel",
     "state": {
      "_dom_classes": [],
      "_model_module": "@jupyter-widgets/controls",
      "_model_module_version": "1.5.0",
      "_model_name": "FloatProgressModel",
      "_view_count": null,
      "_view_module": "@jupyter-widgets/controls",
      "_view_module_version": "1.5.0",
      "_view_name": "ProgressView",
      "bar_style": "success",
      "description": "",
      "description_tooltip": null,
      "layout": "IPY_MODEL_2c68bf47968047ccab81847fb8e80c55",
      "max": 67,
      "min": 0,
      "orientation": "horizontal",
      "style": "IPY_MODEL_70f2f76ff94a4b0fa73e8b0b9c03f66e",
      "value": 67
     }
    },
    "2c68bf47968047ccab81847fb8e80c55": {
     "model_module": "@jupyter-widgets/base",
     "model_module_version": "1.2.0",
     "model_name": "LayoutModel",
     "state": {
      "_model_module": "@jupyter-widgets/base",
      "_model_module_version": "1.2.0",
      "_model_name": "LayoutModel",
      "_view_count": null,
      "_view_module": "@jupyter-widgets/base",
      "_view_module_version": "1.2.0",
      "_view_name": "LayoutView",
      "align_content": null,
      "align_items": null,
      "align_self": null,
      "border": null,
      "bottom": null,
      "display": null,
      "flex": null,
      "flex_flow": null,
      "grid_area": null,
      "grid_auto_columns": null,
      "grid_auto_flow": null,
      "grid_auto_rows": null,
      "grid_column": null,
      "grid_gap": null,
      "grid_row": null,
      "grid_template_areas": null,
      "grid_template_columns": null,
      "grid_template_rows": null,
      "height": null,
      "justify_content": null,
      "justify_items": null,
      "left": null,
      "margin": null,
      "max_height": null,
      "max_width": null,
      "min_height": null,
      "min_width": null,
      "object_fit": null,
      "object_position": null,
      "order": null,
      "overflow": null,
      "overflow_x": null,
      "overflow_y": null,
      "padding": null,
      "right": null,
      "top": null,
      "visibility": null,
      "width": null
     }
    },
    "57301ba4b0ef4b24aaec700109f80950": {
     "model_module": "@jupyter-widgets/controls",
     "model_module_version": "1.5.0",
     "model_name": "HBoxModel",
     "state": {
      "_dom_classes": [],
      "_model_module": "@jupyter-widgets/controls",
      "_model_module_version": "1.5.0",
      "_model_name": "HBoxModel",
      "_view_count": null,
      "_view_module": "@jupyter-widgets/controls",
      "_view_module_version": "1.5.0",
      "_view_name": "HBoxView",
      "box_style": "",
      "children": [
       "IPY_MODEL_b626e525902f423eb040257261da5e5c",
       "IPY_MODEL_173b7bca875e4eaeb79d1c29aa223f76",
       "IPY_MODEL_e8749972207b49c897924e4da3cf6827"
      ],
      "layout": "IPY_MODEL_d2be83514d914a4aa35964390aa3ecf0"
     }
    },
    "70f2f76ff94a4b0fa73e8b0b9c03f66e": {
     "model_module": "@jupyter-widgets/controls",
     "model_module_version": "1.5.0",
     "model_name": "ProgressStyleModel",
     "state": {
      "_model_module": "@jupyter-widgets/controls",
      "_model_module_version": "1.5.0",
      "_model_name": "ProgressStyleModel",
      "_view_count": null,
      "_view_module": "@jupyter-widgets/base",
      "_view_module_version": "1.2.0",
      "_view_name": "StyleView",
      "bar_color": null,
      "description_width": ""
     }
    },
    "79c32cddabf74f278b795474cbf0bec3": {
     "model_module": "@jupyter-widgets/base",
     "model_module_version": "1.2.0",
     "model_name": "LayoutModel",
     "state": {
      "_model_module": "@jupyter-widgets/base",
      "_model_module_version": "1.2.0",
      "_model_name": "LayoutModel",
      "_view_count": null,
      "_view_module": "@jupyter-widgets/base",
      "_view_module_version": "1.2.0",
      "_view_name": "LayoutView",
      "align_content": null,
      "align_items": null,
      "align_self": null,
      "border": null,
      "bottom": null,
      "display": null,
      "flex": null,
      "flex_flow": null,
      "grid_area": null,
      "grid_auto_columns": null,
      "grid_auto_flow": null,
      "grid_auto_rows": null,
      "grid_column": null,
      "grid_gap": null,
      "grid_row": null,
      "grid_template_areas": null,
      "grid_template_columns": null,
      "grid_template_rows": null,
      "height": null,
      "justify_content": null,
      "justify_items": null,
      "left": null,
      "margin": null,
      "max_height": null,
      "max_width": null,
      "min_height": null,
      "min_width": null,
      "object_fit": null,
      "object_position": null,
      "order": null,
      "overflow": null,
      "overflow_x": null,
      "overflow_y": null,
      "padding": null,
      "right": null,
      "top": null,
      "visibility": null,
      "width": null
     }
    },
    "b626e525902f423eb040257261da5e5c": {
     "model_module": "@jupyter-widgets/controls",
     "model_module_version": "1.5.0",
     "model_name": "HTMLModel",
     "state": {
      "_dom_classes": [],
      "_model_module": "@jupyter-widgets/controls",
      "_model_module_version": "1.5.0",
      "_model_name": "HTMLModel",
      "_view_count": null,
      "_view_module": "@jupyter-widgets/controls",
      "_view_module_version": "1.5.0",
      "_view_name": "HTMLView",
      "description": "",
      "description_tooltip": null,
      "layout": "IPY_MODEL_79c32cddabf74f278b795474cbf0bec3",
      "placeholder": "​",
      "style": "IPY_MODEL_c391a52fe36247bea0e74631a25865ce",
      "value": "replaying log with TBR, completed variants :: 100%"
     }
    },
    "b6ecf7d6e6b3469f80d0039968e2ac2f": {
     "model_module": "@jupyter-widgets/base",
     "model_module_version": "1.2.0",
     "model_name": "LayoutModel",
     "state": {
      "_model_module": "@jupyter-widgets/base",
      "_model_module_version": "1.2.0",
      "_model_name": "LayoutModel",
      "_view_count": null,
      "_view_module": "@jupyter-widgets/base",
      "_view_module_version": "1.2.0",
      "_view_name": "LayoutView",
      "align_content": null,
      "align_items": null,
      "align_self": null,
      "border": null,
      "bottom": null,
      "display": null,
      "flex": null,
      "flex_flow": null,
      "grid_area": null,
      "grid_auto_columns": null,
      "grid_auto_flow": null,
      "grid_auto_rows": null,
      "grid_column": null,
      "grid_gap": null,
      "grid_row": null,
      "grid_template_areas": null,
      "grid_template_columns": null,
      "grid_template_rows": null,
      "height": null,
      "justify_content": null,
      "justify_items": null,
      "left": null,
      "margin": null,
      "max_height": null,
      "max_width": null,
      "min_height": null,
      "min_width": null,
      "object_fit": null,
      "object_position": null,
      "order": null,
      "overflow": null,
      "overflow_x": null,
      "overflow_y": null,
      "padding": null,
      "right": null,
      "top": null,
      "visibility": null,
      "width": null
     }
    },
    "c391a52fe36247bea0e74631a25865ce": {
     "model_module": "@jupyter-widgets/controls",
     "model_module_version": "1.5.0",
     "model_name": "DescriptionStyleModel",
     "state": {
      "_model_module": "@jupyter-widgets/controls",
      "_model_module_version": "1.5.0",
      "_model_name": "DescriptionStyleModel",
      "_view_count": null,
      "_view_module": "@jupyter-widgets/base",
      "_view_module_version": "1.2.0",
      "_view_name": "StyleView",
      "description_width": ""
     }
    },
    "d2be83514d914a4aa35964390aa3ecf0": {
     "model_module": "@jupyter-widgets/base",
     "model_module_version": "1.2.0",
     "model_name": "LayoutModel",
     "state": {
      "_model_module": "@jupyter-widgets/base",
      "_model_module_version": "1.2.0",
      "_model_name": "LayoutModel",
      "_view_count": null,
      "_view_module": "@jupyter-widgets/base",
      "_view_module_version": "1.2.0",
      "_view_name": "LayoutView",
      "align_content": null,
      "align_items": null,
      "align_self": null,
      "border": null,
      "bottom": null,
      "display": null,
      "flex": null,
      "flex_flow": null,
      "grid_area": null,
      "grid_auto_columns": null,
      "grid_auto_flow": null,
      "grid_auto_rows": null,
      "grid_column": null,
      "grid_gap": null,
      "grid_row": null,
      "grid_template_areas": null,
      "grid_template_columns": null,
      "grid_template_rows": null,
      "height": null,
      "justify_content": null,
      "justify_items": null,
      "left": null,
      "margin": null,
      "max_height": null,
      "max_width": null,
      "min_height": null,
      "min_width": null,
      "object_fit": null,
      "object_position": null,
      "order": null,
      "overflow": null,
      "overflow_x": null,
      "overflow_y": null,
      "padding": null,
      "right": null,
      "top": null,
      "visibility": null,
      "width": null
     }
    },
    "e8749972207b49c897924e4da3cf6827": {
     "model_module": "@jupyter-widgets/controls",
     "model_module_version": "1.5.0",
     "model_name": "HTMLModel",
     "state": {
      "_dom_classes": [],
      "_model_module": "@jupyter-widgets/controls",
      "_model_module_version": "1.5.0",
      "_model_name": "HTMLModel",
      "_view_count": null,
      "_view_module": "@jupyter-widgets/controls",
      "_view_module_version": "1.5.0",
      "_view_name": "HTMLView",
      "description": "",
      "description_tooltip": null,
      "layout": "IPY_MODEL_b6ecf7d6e6b3469f80d0039968e2ac2f",
      "placeholder": "​",
      "style": "IPY_MODEL_ee3acd4faa6f4f8dbd3b1516c59ed8f3",
      "value": " 67/67 [00:00&lt;00:00, 754.76it/s]"
     }
    },
    "ee3acd4faa6f4f8dbd3b1516c59ed8f3": {
     "model_module": "@jupyter-widgets/controls",
     "model_module_version": "1.5.0",
     "model_name": "DescriptionStyleModel",
     "state": {
      "_model_module": "@jupyter-widgets/controls",
      "_model_module_version": "1.5.0",
      "_model_name": "DescriptionStyleModel",
      "_view_count": null,
      "_view_module": "@jupyter-widgets/base",
      "_view_module_version": "1.2.0",
      "_view_name": "StyleView",
      "description_width": ""
     }
    }
   }
  }
 },
 "nbformat": 4,
 "nbformat_minor": 5
}
